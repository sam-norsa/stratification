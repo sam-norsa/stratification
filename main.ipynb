{
 "cells": [
  {
   "cell_type": "code",
   "execution_count": 27,
   "id": "d0d70140",
   "metadata": {},
   "outputs": [],
   "source": [
    "#librairies\n",
    "import numpy.random as rd"
   ]
  },
  {
   "cell_type": "code",
   "execution_count": 28,
   "id": "75c0edb5",
   "metadata": {},
   "outputs": [],
   "source": [
    "def u(d):\n",
    "    return list(rd.random(d))\n",
    "\n",
    "def f(u):\n",
    "    S=0\n",
    "    for k in range(len(u)):\n",
    "        S+=u[k]\n",
    "    S/=len(u)\n",
    "    S-=0.5\n",
    "    S*=2*np.pi\n",
    "    return np.cos(S)"
   ]
  },
  {
   "cell_type": "code",
   "execution_count": 29,
   "id": "92d70cb5",
   "metadata": {},
   "outputs": [
    {
     "data": {
      "text/plain": [
       "(np.float64(-1.0), np.float64(1.0), np.float64(-1.0))"
      ]
     },
     "execution_count": 29,
     "metadata": {},
     "output_type": "execute_result"
    }
   ],
   "source": [
    "f([1]), f([0.5,0.5]), f([2])\n"
   ]
  },
  {
   "cell_type": "code",
   "execution_count": 40,
   "id": "0f70b594",
   "metadata": {},
   "outputs": [],
   "source": [
    "#simulation en MC\n",
    "def simulation(d,N):\n",
    "    S=0\n",
    "    for k in range(N):\n",
    "        S+=f(u(d))\n",
    "    S/=N\n",
    "    return S"
   ]
  },
  {
   "cell_type": "code",
   "execution_count": 47,
   "id": "1de76e31",
   "metadata": {},
   "outputs": [
    {
     "data": {
      "text/plain": [
       "(np.float64(0.14780708090643102),\n",
       " np.float64(0.8567429859347954),\n",
       " np.float64(0.9832720107523086),\n",
       " np.float64(0.9983187614366968))"
      ]
     },
     "execution_count": 47,
     "metadata": {},
     "output_type": "execute_result"
    }
   ],
   "source": [
    "simulation(1,100), simulation(10,200), simulation(100,10000), simulation(1000,10000)"
   ]
  },
  {
   "cell_type": "code",
   "execution_count": null,
   "id": "99a1cb45",
   "metadata": {},
   "outputs": [],
   "source": []
  }
 ],
 "metadata": {
  "kernelspec": {
   "display_name": "base",
   "language": "python",
   "name": "python3"
  },
  "language_info": {
   "codemirror_mode": {
    "name": "ipython",
    "version": 3
   },
   "file_extension": ".py",
   "mimetype": "text/x-python",
   "name": "python",
   "nbconvert_exporter": "python",
   "pygments_lexer": "ipython3",
   "version": "3.12.9"
  }
 },
 "nbformat": 4,
 "nbformat_minor": 5
}
