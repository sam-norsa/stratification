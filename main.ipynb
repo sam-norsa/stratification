{
 "cells": [
  {
   "cell_type": "markdown",
   "id": "a79ff7c0",
   "metadata": {},
   "source": [
    "# Projet de Monte-Carlo : Stratification"
   ]
  },
  {
   "cell_type": "code",
   "execution_count": 87,
   "id": "d0d70140",
   "metadata": {},
   "outputs": [],
   "source": [
    "#librairies\n",
    "import numpy as np\n",
    "import numpy.random as rd\n",
    "import scipy.stats as sp\n",
    "import matplotlib.pyplot as plt"
   ]
  },
  {
   "cell_type": "code",
   "execution_count": 55,
   "id": "75c0edb5",
   "metadata": {},
   "outputs": [],
   "source": [
    "def u(d):\n",
    "    return list(rd.random(d))\n",
    "\n",
    "def f(u):\n",
    "    S=0\n",
    "    for k in range(len(u)):\n",
    "        S+=u[k]\n",
    "    S/=len(u)\n",
    "    S-=0.5\n",
    "    S*=2*np.pi\n",
    "    return np.cos(S)"
   ]
  },
  {
   "cell_type": "code",
   "execution_count": 56,
   "id": "92d70cb5",
   "metadata": {},
   "outputs": [
    {
     "data": {
      "text/plain": [
       "(np.float64(-1.0), np.float64(1.0), np.float64(-1.0))"
      ]
     },
     "execution_count": 56,
     "metadata": {},
     "output_type": "execute_result"
    }
   ],
   "source": [
    "f([1]), f([0.5,0.5]), f([2])\n"
   ]
  },
  {
   "cell_type": "code",
   "execution_count": 103,
   "id": "b541a1f0",
   "metadata": {},
   "outputs": [
    {
     "data": {
      "image/png": "[encoded data removed]",
      "text/plain": [
       "<Figure size 640x480 with 1 Axes>"
      ]
     },
     "metadata": {},
     "output_type": "display_data"
    }
   ],
   "source": [
    "x=np.linspace(0,1,1000)\n",
    "x=list(x)\n",
    "f_vals=[]\n",
    "for k in range(1000):\n",
    "    f_vals.append(f([x[k]]))\n",
    "\n",
    "plt.plot(x,f_vals)\n",
    "plt.show()"
   ]
  },
  {
   "cell_type": "markdown",
   "id": "93881942",
   "metadata": {},
   "source": [
    "### Calcul pour d=1 : \n",
    "$\\int_{0}^{1}{(cos(2\\pi x) - 0.5)dx} = \\int_{-0.5}^{0.5}{cos(2\\pi x)dx} = [\\frac{sin(2\\pi x)}{2\\pi}]_{-0.5}^{0.5} = 0$"
   ]
  },
  {
   "cell_type": "markdown",
   "id": "cbba3551",
   "metadata": {},
   "source": [
    "### Question 1 : Simulation MC et Q-MC."
   ]
  },
  {
   "cell_type": "markdown",
   "id": "31865f66",
   "metadata": {},
   "source": [
    "Simulation Monte Carlo :"
   ]
  },
  {
   "cell_type": "code",
   "execution_count": 66,
   "id": "0f70b594",
   "metadata": {},
   "outputs": [],
   "source": [
    "#simulation en MC\n",
    "def simulation_mc(d,N):\n",
    "    S=0\n",
    "    for k in range(N):\n",
    "        S+=f(u(d))\n",
    "    S/=N\n",
    "    return S"
   ]
  },
  {
   "cell_type": "code",
   "execution_count": 67,
   "id": "1de76e31",
   "metadata": {},
   "outputs": [
    {
     "data": {
      "text/plain": [
       "(np.float64(0.00391878240230324),\n",
       " np.float64(0.9999728154830887),\n",
       " np.float64(0.9965081112623538),\n",
       " np.float64(0.9967130580206031))"
      ]
     },
     "execution_count": 67,
     "metadata": {},
     "output_type": "execute_result"
    }
   ],
   "source": [
    "simulation_mc(1,10000), simulation_mc(10000,1), simulation_mc(500,500), simulation_mc(500,100000)"
   ]
  },
  {
   "cell_type": "markdown",
   "id": "fb704a4e",
   "metadata": {},
   "source": [
    "### Théoriquement, pour d=1, l'intégrale vaut 0. Or, seul le cas d=1 nous permet de retrouver cela."
   ]
  },
  {
   "cell_type": "markdown",
   "id": "3b01c8dc",
   "metadata": {},
   "source": [
    "Simulation Quasi-Monte-Carlo :"
   ]
  },
  {
   "cell_type": "code",
   "execution_count": 84,
   "id": "99a1cb45",
   "metadata": {},
   "outputs": [],
   "source": [
    "def simulation_qmc(d,N):\n",
    "    sampler=sp.qmc.Sobol(d)\n",
    "    samples=sampler.random(N)\n",
    "    S=0\n",
    "    for k in range(N):\n",
    "        S+=f(samples[k])\n",
    "    S/=N\n",
    "    return S"
   ]
  },
  {
   "cell_type": "markdown",
   "id": "cbc36fff",
   "metadata": {},
   "source": [
    "Je favorise Sobol à Halton par exemple."
   ]
  },
  {
   "cell_type": "code",
   "execution_count": 85,
   "id": "445168d7",
   "metadata": {},
   "outputs": [
    {
     "name": "stderr",
     "output_type": "stream",
     "text": [
      "/opt/conda/lib/python3.12/site-packages/scipy/stats/_qmc.py:993: UserWarning: The balance properties of Sobol' points require n to be a power of 2.\n",
      "  sample = self._random(n, workers=workers)\n"
     ]
    },
    {
     "data": {
      "text/plain": [
       "(np.float64(0.0009783724627037476),\n",
       " np.float64(0.9836830509024441),\n",
       " np.float64(0.717088761903724))"
      ]
     },
     "execution_count": 85,
     "metadata": {},
     "output_type": "execute_result"
    }
   ],
   "source": [
    "simulation_qmc(1,1000), simulation_qmc(100,10000), simulation_qmc(5,1000)"
   ]
  },
  {
   "cell_type": "markdown",
   "id": "e06facec",
   "metadata": {},
   "source": [
    "### Conclusion : Toujours le même problème d'intégrale estimée à 1 alors qu'elle vaut 0."
   ]
  },
  {
   "cell_type": "code",
   "execution_count": null,
   "id": "3b82aae2",
   "metadata": {},
   "outputs": [],
   "source": []
  }
 ],
 "metadata": {
  "kernelspec": {
   "display_name": "base",
   "language": "python",
   "name": "python3"
  },
  "language_info": {
   "codemirror_mode": {
    "name": "ipython",
    "version": 3
   },
   "file_extension": ".py",
   "mimetype": "text/x-python",
   "name": "python",
   "nbconvert_exporter": "python",
   "pygments_lexer": "ipython3",
   "version": "3.12.9"
  }
 },
 "nbformat": 4,
 "nbformat_minor": 5
}
